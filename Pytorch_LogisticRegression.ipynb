{
  "cells": [
    {
      "cell_type": "markdown",
      "metadata": {
        "id": "view-in-github",
        "colab_type": "text"
      },
      "source": [
        "<a href=\"https://colab.research.google.com/github/thaianh1210/LogisticRegression/blob/main/Pytorch_LogisticRegression.ipynb\" target=\"_parent\"><img src=\"https://colab.research.google.com/assets/colab-badge.svg\" alt=\"Open In Colab\"/></a>"
      ]
    },
    {
      "cell_type": "code",
      "execution_count": null,
      "metadata": {
        "id": "58NnL_4cNJ-L"
      },
      "outputs": [],
      "source": [
        "import numpy as np\n",
        "import torch\n",
        "import torch.nn as nn\n",
        "import torch.nn.functional as F\n",
        "from torch.utils.data import TensorDataset, DataLoader"
      ]
    },
    {
      "cell_type": "code",
      "source": [
        "!gdown --id 1BOgseHn1k2WH10A1f2L__GtyhMsMXCfl"
      ],
      "metadata": {
        "colab": {
          "base_uri": "https://localhost:8080/"
        },
        "id": "MYCUEDam_1St",
        "outputId": "df80e0b6-445e-469c-fab1-e4b6ed8bb501"
      },
      "execution_count": null,
      "outputs": [
        {
          "output_type": "stream",
          "name": "stdout",
          "text": [
            "/usr/local/lib/python3.7/dist-packages/gdown/cli.py:131: FutureWarning: Option `--id` was deprecated in version 4.3.1 and will be removed in 5.0. You don't need to pass it anymore to use a file ID.\n",
            "  category=FutureWarning,\n",
            "Downloading...\n",
            "From: https://drive.google.com/uc?id=1BOgseHn1k2WH10A1f2L__GtyhMsMXCfl\n",
            "To: /content/iris_full.csv\n",
            "100% 2.06k/2.06k [00:00<00:00, 5.07MB/s]\n"
          ]
        }
      ]
    },
    {
      "cell_type": "code",
      "source": [
        "# Data Preparation\n",
        "data = np.genfromtxt('iris_full.csv',\n",
        "                     delimiter=',',\n",
        "                     skip_header=1)\n",
        "inputs  = torch.tensor(data[:,0:4], dtype = torch.float)\n",
        "targets = torch.tensor(data[:,4], dtype = torch.float)\n",
        "\n",
        "print(inputs[:10])\n",
        "print(targets[:10])"
      ],
      "metadata": {
        "colab": {
          "base_uri": "https://localhost:8080/"
        },
        "id": "0qC49nLy_s7A",
        "outputId": "d33b54b0-8d50-4fdc-94ce-d0a15f3517c2"
      },
      "execution_count": null,
      "outputs": [
        {
          "output_type": "stream",
          "name": "stdout",
          "text": [
            "tensor([[5.1000, 3.5000, 1.4000, 0.2000],\n",
            "        [4.9000, 3.0000, 1.4000, 0.2000],\n",
            "        [4.7000, 3.2000, 1.3000, 0.2000],\n",
            "        [4.6000, 3.1000, 1.5000, 0.2000],\n",
            "        [5.0000, 3.6000, 1.4000, 0.2000],\n",
            "        [5.4000, 3.9000, 1.7000, 0.4000],\n",
            "        [4.6000, 3.4000, 1.4000, 0.3000],\n",
            "        [5.0000, 3.4000, 1.5000, 0.2000],\n",
            "        [4.4000, 2.9000, 1.4000, 0.2000],\n",
            "        [4.9000, 3.1000, 1.5000, 0.1000]])\n",
            "tensor([0., 0., 0., 0., 0., 0., 0., 0., 0., 0.])\n"
          ]
        }
      ]
    },
    {
      "cell_type": "code",
      "source": [
        "inputs.shape"
      ],
      "metadata": {
        "colab": {
          "base_uri": "https://localhost:8080/"
        },
        "id": "sXg1Z4ZVvAn4",
        "outputId": "4988e62b-42c3-41d3-99f7-e969b57e9fe6"
      },
      "execution_count": null,
      "outputs": [
        {
          "output_type": "execute_result",
          "data": {
            "text/plain": [
              "torch.Size([100, 4])"
            ]
          },
          "metadata": {},
          "execution_count": 54
        }
      ]
    },
    {
      "cell_type": "code",
      "execution_count": null,
      "metadata": {
        "id": "w9XqLkRKNJ-V",
        "colab": {
          "base_uri": "https://localhost:8080/"
        },
        "outputId": "b85b8997-8e29-4ed4-faae-f6c210a103e2"
      },
      "outputs": [
        {
          "output_type": "execute_result",
          "data": {
            "text/plain": [
              "(tensor([[5.1000, 3.5000, 1.4000, 0.2000],\n",
              "         [4.9000, 3.0000, 1.4000, 0.2000],\n",
              "         [4.7000, 3.2000, 1.3000, 0.2000]]), tensor([0., 0., 0.]))"
            ]
          },
          "metadata": {},
          "execution_count": 55
        }
      ],
      "source": [
        "train_ds = TensorDataset(inputs, targets)\n",
        "train_ds[0:3]"
      ]
    },
    {
      "cell_type": "code",
      "source": [
        "batch_size = 20\n",
        "train_dl = DataLoader(train_ds, batch_size, shuffle=True)\n",
        "next(iter(train_dl))"
      ],
      "metadata": {
        "colab": {
          "base_uri": "https://localhost:8080/"
        },
        "id": "Q2JQLPZjAt_O",
        "outputId": "439e5f51-3710-48e3-bc0c-c5d97752cc6e"
      },
      "execution_count": null,
      "outputs": [
        {
          "output_type": "execute_result",
          "data": {
            "text/plain": [
              "[tensor([[4.4000, 2.9000, 1.4000, 0.2000],\n",
              "         [5.0000, 3.5000, 1.3000, 0.3000],\n",
              "         [5.0000, 3.3000, 1.4000, 0.2000],\n",
              "         [5.6000, 2.9000, 3.6000, 1.3000],\n",
              "         [6.2000, 2.2000, 4.5000, 1.5000],\n",
              "         [6.5000, 2.8000, 4.6000, 1.5000],\n",
              "         [5.4000, 3.0000, 4.5000, 1.5000],\n",
              "         [6.7000, 3.1000, 4.4000, 1.4000],\n",
              "         [4.3000, 3.0000, 1.1000, 0.1000],\n",
              "         [4.8000, 3.0000, 1.4000, 0.3000],\n",
              "         [4.8000, 3.1000, 1.6000, 0.2000],\n",
              "         [5.0000, 3.2000, 1.2000, 0.2000],\n",
              "         [4.4000, 3.0000, 1.3000, 0.2000],\n",
              "         [4.9000, 3.1000, 1.5000, 0.1000],\n",
              "         [6.0000, 2.2000, 4.0000, 1.0000],\n",
              "         [4.8000, 3.4000, 1.9000, 0.2000],\n",
              "         [6.6000, 2.9000, 4.6000, 1.3000],\n",
              "         [5.7000, 2.9000, 4.2000, 1.3000],\n",
              "         [6.6000, 3.0000, 4.4000, 1.4000],\n",
              "         [5.1000, 3.8000, 1.6000, 0.2000]]),\n",
              " tensor([0., 0., 0., 1., 1., 1., 1., 1., 0., 0., 0., 0., 0., 0., 1., 0., 1., 1.,\n",
              "         1., 0.])]"
            ]
          },
          "metadata": {},
          "execution_count": 56
        }
      ]
    },
    {
      "cell_type": "code",
      "source": [
        "class my_network(nn.Module):\n",
        "  def __init__(self):\n",
        "    super(my_network, self).__init__()\n",
        "    self.linear1 = nn.Linear(4,1)\n",
        "    #self.act1 = nn.Sigmoid()\n",
        "  def forward(self, x):\n",
        "    # x = self.liner1(x)\n",
        "    # x = self.act1(x)\n",
        "    x = torch.sigmoid(self.linear1(x))\n",
        "    return x"
      ],
      "metadata": {
        "id": "rFdrvYiRAuCS"
      },
      "execution_count": null,
      "outputs": []
    },
    {
      "cell_type": "code",
      "source": [
        "model = my_network()"
      ],
      "metadata": {
        "id": "2kDlMRDhyfFP"
      },
      "execution_count": null,
      "outputs": []
    },
    {
      "cell_type": "code",
      "source": [
        "opt = torch.optim.SGD(model.parameters(), 0.001)"
      ],
      "metadata": {
        "id": "7efQc8RwAuPa"
      },
      "execution_count": null,
      "outputs": []
    },
    {
      "cell_type": "code",
      "source": [
        "loss_fn = torch.nn.BCELoss()"
      ],
      "metadata": {
        "id": "2WZUmh-8AuSN"
      },
      "execution_count": null,
      "outputs": []
    },
    {
      "cell_type": "code",
      "source": [
        "targets = targets.reshape(100,1)\n",
        "targets.shape"
      ],
      "metadata": {
        "colab": {
          "base_uri": "https://localhost:8080/"
        },
        "id": "XQ8oKsC7ER14",
        "outputId": "8109a041-9080-4b05-868e-1e3666e59eef"
      },
      "execution_count": null,
      "outputs": [
        {
          "output_type": "execute_result",
          "data": {
            "text/plain": [
              "torch.Size([100, 1])"
            ]
          },
          "metadata": {},
          "execution_count": 77
        }
      ]
    },
    {
      "cell_type": "code",
      "source": [
        "# Define a utility function to train the model\n",
        "def fit(train_dl, num_epochs, model, loss_fn, opt):\n",
        "    losses = []\n",
        "    for epoch in range(num_epochs):\n",
        "        for xb,yb in train_dl:\n",
        "            # Generate predictions\n",
        "            pred = model(xb)\n",
        "            #print(pred, yb)\n",
        "            loss = loss_fn(pred.reshape(-1,), yb)\n",
        "            #print(loss)\n",
        "            losses.append(loss.item())\n",
        "            # Perform gradient descent\n",
        "            loss.backward()\n",
        "            opt.step()\n",
        "            opt.zero_grad()\n",
        "    print('Training loss: ', loss_fn(model(inputs), targets))\n",
        "    return losses\n"
      ],
      "metadata": {
        "id": "6wyCNH06CUTQ"
      },
      "execution_count": null,
      "outputs": []
    },
    {
      "cell_type": "code",
      "source": [
        "losses = fit(train_dl, 20000, model, loss_fn, opt)"
      ],
      "metadata": {
        "colab": {
          "base_uri": "https://localhost:8080/"
        },
        "id": "UgEKACM5CUWB",
        "outputId": "26220482-a43a-4ed9-b213-8154a5dabd15"
      },
      "execution_count": null,
      "outputs": [
        {
          "output_type": "stream",
          "name": "stdout",
          "text": [
            "Training loss:  tensor(0.0079, grad_fn=<BinaryCrossEntropyBackward0>)\n"
          ]
        }
      ]
    },
    {
      "cell_type": "code",
      "source": [
        "import matplotlib.pyplot as plt\n",
        "\n",
        "plt.plot(losses)\n",
        "plt.xlabel('iteration')\n",
        "plt.ylabel('Loss')\n",
        "plt.show()"
      ],
      "metadata": {
        "colab": {
          "base_uri": "https://localhost:8080/",
          "height": 279
        },
        "id": "ANKAgZFCCUZs",
        "outputId": "6633478a-71a7-4b89-f57c-cc738c304c4f"
      },
      "execution_count": null,
      "outputs": [
        {
          "output_type": "display_data",
          "data": {
            "text/plain": [
              "<Figure size 432x288 with 1 Axes>"
            ],
            "image/png": "[encoded data removed]"
          },
          "metadata": {
            "needs_background": "light"
          }
        }
      ]
    },
    {
      "cell_type": "code",
      "source": [
        "model.parameters"
      ],
      "metadata": {
        "colab": {
          "base_uri": "https://localhost:8080/"
        },
        "id": "ohKn5K41vRSR",
        "outputId": "a0e73556-58de-49c3-dd0f-a51169818b55"
      },
      "execution_count": null,
      "outputs": [
        {
          "output_type": "execute_result",
          "data": {
            "text/plain": [
              "<bound method Module.parameters of my_network(\n",
              "  (linear1): Linear(in_features=4, out_features=1, bias=True)\n",
              ")>"
            ]
          },
          "metadata": {},
          "execution_count": 81
        }
      ]
    },
    {
      "cell_type": "code",
      "source": [
        "test = torch.rand(4)\n",
        "test"
      ],
      "metadata": {
        "colab": {
          "base_uri": "https://localhost:8080/"
        },
        "id": "1ZAhaU7e1mr6",
        "outputId": "f8a3eec0-0bb2-433a-ac6f-a7c4296eff44"
      },
      "execution_count": null,
      "outputs": [
        {
          "output_type": "execute_result",
          "data": {
            "text/plain": [
              "tensor([0.0172, 0.9339, 0.3274, 0.4628])"
            ]
          },
          "metadata": {},
          "execution_count": 82
        }
      ]
    },
    {
      "cell_type": "code",
      "source": [
        "model(test)"
      ],
      "metadata": {
        "colab": {
          "base_uri": "https://localhost:8080/"
        },
        "id": "RoafvraavrK2",
        "outputId": "b5ae2b52-92dd-4fc3-d31a-1aaa97c0acbc"
      },
      "execution_count": null,
      "outputs": [
        {
          "output_type": "execute_result",
          "data": {
            "text/plain": [
              "tensor([0.4165], grad_fn=<SigmoidBackward0>)"
            ]
          },
          "metadata": {},
          "execution_count": 83
        }
      ]
    },
    {
      "cell_type": "code",
      "source": [
        "model(torch.tensor([5.1, 2.5, 3. , 1.1]))"
      ],
      "metadata": {
        "colab": {
          "base_uri": "https://localhost:8080/"
        },
        "id": "JBkwsZbh0rmz",
        "outputId": "55ac0d62-0288-4dd9-9c6b-7a0e8f10fcbc"
      },
      "execution_count": null,
      "outputs": [
        {
          "output_type": "execute_result",
          "data": {
            "text/plain": [
              "tensor([0.9255], grad_fn=<SigmoidBackward0>)"
            ]
          },
          "metadata": {},
          "execution_count": 84
        }
      ]
    },
    {
      "cell_type": "code",
      "source": [],
      "metadata": {
        "id": "5LFD-BJI0vP9"
      },
      "execution_count": null,
      "outputs": []
    }
  ],
  "metadata": {
    "kernelspec": {
      "display_name": "Python 3 (ipykernel)",
      "language": "python",
      "name": "python3"
    },
    "language_info": {
      "codemirror_mode": {
        "name": "ipython",
        "version": 3
      },
      "file_extension": ".py",
      "mimetype": "text/x-python",
      "name": "python",
      "nbconvert_exporter": "python",
      "pygments_lexer": "ipython3",
      "version": "3.9.7"
    },
    "colab": {
      "provenance": [],
      "include_colab_link": true
    }
  },
  "nbformat": 4,
  "nbformat_minor": 0
}